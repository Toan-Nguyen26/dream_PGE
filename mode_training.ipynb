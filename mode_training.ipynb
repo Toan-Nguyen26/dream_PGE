{
  "nbformat": 4,
  "nbformat_minor": 0,
  "metadata": {
    "kernelspec": {
      "display_name": "Python 3",
      "name": "python3"
    },
    "language_info": {
      "name": "python"
    },
    "colab": {
      "name": "mode_training.ipynb",
      "provenance": [],
      "collapsed_sections": [
        "ZEAMTtE4ZG9M"
      ],
      "gpuType": "T4",
      "include_colab_link": true
    },
    "accelerator": "GPU"
  },
  "cells": [
    {
      "cell_type": "markdown",
      "metadata": {
        "id": "view-in-github",
        "colab_type": "text"
      },
      "source": [
        "<a href=\"https://colab.research.google.com/github/Toan-Nguyen26/dream_PGE/blob/main/mode_training.ipynb\" target=\"_parent\"><img src=\"https://colab.research.google.com/assets/colab-badge.svg\" alt=\"Open In Colab\"/></a>"
      ]
    },
    {
      "cell_type": "markdown",
      "metadata": {
        "id": "M0jDe-m_5aq4"
      },
      "source": [
        "# Model training"
      ]
    },
    {
      "cell_type": "code",
      "source": [
        "RUNTIME = 'msi'"
      ],
      "metadata": {
        "id": "5VA-6Q6ciFVs"
      },
      "execution_count": 1,
      "outputs": []
    },
    {
      "cell_type": "code",
      "source": [
        "import zipfile\n",
        "\n",
        "# Replace 'your_folder.zip' with your actual filename\n",
        "with zipfile.ZipFile('s3.msi.umn.edu.zip', 'r') as zip_ref:\n",
        "    zip_ref.extractall('.')  # This extracts to the current directory"
      ],
      "metadata": {
        "id": "c5Dv7Jnmuhqs"
      },
      "execution_count": 34,
      "outputs": []
    },
    {
      "cell_type": "markdown",
      "metadata": {
        "id": "obcf6pAcw6TQ"
      },
      "source": [
        "### Install external packages"
      ]
    },
    {
      "cell_type": "code",
      "source": [
        "%%bash -s \"$RUNTIME\"\n",
        "if [[ \"$1\" == \"colab\" ]]; then\n",
        "  pip install -U tensorflow-addons\n",
        "  pip install -U session_info\n",
        "  pip install -U biopython\n",
        "else\n",
        "  pip install tensorflow\n",
        "  pip install tensorflow_probability\n",
        "  pip install session_info\n",
        "  pip install biopython\n",
        "  pip install sklearn\n",
        "  pip install matplotlib\n",
        "  # pip install tensorflow_io\n",
        "fi"
      ],
      "metadata": {
        "id": "jmnenNTxiL2f",
        "colab": {
          "base_uri": "https://localhost:8080/"
        },
        "outputId": "edc6fba4-c82c-4d1e-e737-feb309fbdcfe"
      },
      "execution_count": 4,
      "outputs": [
        {
          "output_type": "stream",
          "name": "stdout",
          "text": [
            "Requirement already satisfied: tensorflow in /usr/local/lib/python3.11/dist-packages (2.18.0)\n",
            "Requirement already satisfied: absl-py>=1.0.0 in /usr/local/lib/python3.11/dist-packages (from tensorflow) (1.4.0)\n",
            "Requirement already satisfied: astunparse>=1.6.0 in /usr/local/lib/python3.11/dist-packages (from tensorflow) (1.6.3)\n",
            "Requirement already satisfied: flatbuffers>=24.3.25 in /usr/local/lib/python3.11/dist-packages (from tensorflow) (25.2.10)\n",
            "Requirement already satisfied: gast!=0.5.0,!=0.5.1,!=0.5.2,>=0.2.1 in /usr/local/lib/python3.11/dist-packages (from tensorflow) (0.6.0)\n",
            "Requirement already satisfied: google-pasta>=0.1.1 in /usr/local/lib/python3.11/dist-packages (from tensorflow) (0.2.0)\n",
            "Requirement already satisfied: libclang>=13.0.0 in /usr/local/lib/python3.11/dist-packages (from tensorflow) (18.1.1)\n",
            "Requirement already satisfied: opt-einsum>=2.3.2 in /usr/local/lib/python3.11/dist-packages (from tensorflow) (3.4.0)\n",
            "Requirement already satisfied: packaging in /usr/local/lib/python3.11/dist-packages (from tensorflow) (24.2)\n",
            "Requirement already satisfied: protobuf!=4.21.0,!=4.21.1,!=4.21.2,!=4.21.3,!=4.21.4,!=4.21.5,<6.0.0dev,>=3.20.3 in /usr/local/lib/python3.11/dist-packages (from tensorflow) (5.29.4)\n",
            "Requirement already satisfied: requests<3,>=2.21.0 in /usr/local/lib/python3.11/dist-packages (from tensorflow) (2.32.3)\n",
            "Requirement already satisfied: setuptools in /usr/local/lib/python3.11/dist-packages (from tensorflow) (75.2.0)\n",
            "Requirement already satisfied: six>=1.12.0 in /usr/local/lib/python3.11/dist-packages (from tensorflow) (1.17.0)\n",
            "Requirement already satisfied: termcolor>=1.1.0 in /usr/local/lib/python3.11/dist-packages (from tensorflow) (3.0.1)\n",
            "Requirement already satisfied: typing-extensions>=3.6.6 in /usr/local/lib/python3.11/dist-packages (from tensorflow) (4.13.2)\n",
            "Requirement already satisfied: wrapt>=1.11.0 in /usr/local/lib/python3.11/dist-packages (from tensorflow) (1.17.2)\n",
            "Requirement already satisfied: grpcio<2.0,>=1.24.3 in /usr/local/lib/python3.11/dist-packages (from tensorflow) (1.71.0)\n",
            "Requirement already satisfied: tensorboard<2.19,>=2.18 in /usr/local/lib/python3.11/dist-packages (from tensorflow) (2.18.0)\n",
            "Requirement already satisfied: keras>=3.5.0 in /usr/local/lib/python3.11/dist-packages (from tensorflow) (3.8.0)\n",
            "Requirement already satisfied: numpy<2.1.0,>=1.26.0 in /usr/local/lib/python3.11/dist-packages (from tensorflow) (2.0.2)\n",
            "Requirement already satisfied: h5py>=3.11.0 in /usr/local/lib/python3.11/dist-packages (from tensorflow) (3.13.0)\n",
            "Requirement already satisfied: ml-dtypes<0.5.0,>=0.4.0 in /usr/local/lib/python3.11/dist-packages (from tensorflow) (0.4.1)\n",
            "Requirement already satisfied: tensorflow-io-gcs-filesystem>=0.23.1 in /usr/local/lib/python3.11/dist-packages (from tensorflow) (0.37.1)\n",
            "Requirement already satisfied: wheel<1.0,>=0.23.0 in /usr/local/lib/python3.11/dist-packages (from astunparse>=1.6.0->tensorflow) (0.45.1)\n",
            "Requirement already satisfied: rich in /usr/local/lib/python3.11/dist-packages (from keras>=3.5.0->tensorflow) (13.9.4)\n",
            "Requirement already satisfied: namex in /usr/local/lib/python3.11/dist-packages (from keras>=3.5.0->tensorflow) (0.0.8)\n",
            "Requirement already satisfied: optree in /usr/local/lib/python3.11/dist-packages (from keras>=3.5.0->tensorflow) (0.15.0)\n",
            "Requirement already satisfied: charset-normalizer<4,>=2 in /usr/local/lib/python3.11/dist-packages (from requests<3,>=2.21.0->tensorflow) (3.4.1)\n",
            "Requirement already satisfied: idna<4,>=2.5 in /usr/local/lib/python3.11/dist-packages (from requests<3,>=2.21.0->tensorflow) (3.10)\n",
            "Requirement already satisfied: urllib3<3,>=1.21.1 in /usr/local/lib/python3.11/dist-packages (from requests<3,>=2.21.0->tensorflow) (2.3.0)\n",
            "Requirement already satisfied: certifi>=2017.4.17 in /usr/local/lib/python3.11/dist-packages (from requests<3,>=2.21.0->tensorflow) (2025.1.31)\n",
            "Requirement already satisfied: markdown>=2.6.8 in /usr/local/lib/python3.11/dist-packages (from tensorboard<2.19,>=2.18->tensorflow) (3.8)\n",
            "Requirement already satisfied: tensorboard-data-server<0.8.0,>=0.7.0 in /usr/local/lib/python3.11/dist-packages (from tensorboard<2.19,>=2.18->tensorflow) (0.7.2)\n",
            "Requirement already satisfied: werkzeug>=1.0.1 in /usr/local/lib/python3.11/dist-packages (from tensorboard<2.19,>=2.18->tensorflow) (3.1.3)\n",
            "Requirement already satisfied: MarkupSafe>=2.1.1 in /usr/local/lib/python3.11/dist-packages (from werkzeug>=1.0.1->tensorboard<2.19,>=2.18->tensorflow) (3.0.2)\n",
            "Requirement already satisfied: markdown-it-py>=2.2.0 in /usr/local/lib/python3.11/dist-packages (from rich->keras>=3.5.0->tensorflow) (3.0.0)\n",
            "Requirement already satisfied: pygments<3.0.0,>=2.13.0 in /usr/local/lib/python3.11/dist-packages (from rich->keras>=3.5.0->tensorflow) (2.18.0)\n",
            "Requirement already satisfied: mdurl~=0.1 in /usr/local/lib/python3.11/dist-packages (from markdown-it-py>=2.2.0->rich->keras>=3.5.0->tensorflow) (0.1.2)\n",
            "Requirement already satisfied: tensorflow_probability in /usr/local/lib/python3.11/dist-packages (0.14.1)\n",
            "Requirement already satisfied: absl-py in /usr/local/lib/python3.11/dist-packages (from tensorflow_probability) (1.4.0)\n",
            "Requirement already satisfied: six>=1.10.0 in /usr/local/lib/python3.11/dist-packages (from tensorflow_probability) (1.17.0)\n",
            "Requirement already satisfied: numpy>=1.13.3 in /usr/local/lib/python3.11/dist-packages (from tensorflow_probability) (2.0.2)\n",
            "Requirement already satisfied: decorator in /usr/local/lib/python3.11/dist-packages (from tensorflow_probability) (4.4.2)\n",
            "Requirement already satisfied: cloudpickle>=1.3 in /usr/local/lib/python3.11/dist-packages (from tensorflow_probability) (3.1.1)\n",
            "Requirement already satisfied: gast>=0.3.2 in /usr/local/lib/python3.11/dist-packages (from tensorflow_probability) (0.6.0)\n",
            "Requirement already satisfied: dm-tree in /usr/local/lib/python3.11/dist-packages (from tensorflow_probability) (0.1.9)\n",
            "Requirement already satisfied: attrs>=18.2.0 in /usr/local/lib/python3.11/dist-packages (from dm-tree->tensorflow_probability) (25.3.0)\n",
            "Requirement already satisfied: wrapt>=1.11.2 in /usr/local/lib/python3.11/dist-packages (from dm-tree->tensorflow_probability) (1.17.2)\n",
            "Requirement already satisfied: session_info in /usr/local/lib/python3.11/dist-packages (1.0.1)\n",
            "Requirement already satisfied: stdlib_list in /usr/local/lib/python3.11/dist-packages (from session_info) (0.11.1)\n",
            "Requirement already satisfied: biopython in /usr/local/lib/python3.11/dist-packages (1.85)\n",
            "Requirement already satisfied: numpy in /usr/local/lib/python3.11/dist-packages (from biopython) (2.0.2)\n",
            "Collecting sklearn\n",
            "  Using cached sklearn-0.0.post12.tar.gz (2.6 kB)\n",
            "  Preparing metadata (setup.py): started\n",
            "  Preparing metadata (setup.py): finished with status 'error'\n",
            "Requirement already satisfied: matplotlib in /usr/local/lib/python3.11/dist-packages (3.10.0)\n",
            "Requirement already satisfied: contourpy>=1.0.1 in /usr/local/lib/python3.11/dist-packages (from matplotlib) (1.3.2)\n",
            "Requirement already satisfied: cycler>=0.10 in /usr/local/lib/python3.11/dist-packages (from matplotlib) (0.12.1)\n",
            "Requirement already satisfied: fonttools>=4.22.0 in /usr/local/lib/python3.11/dist-packages (from matplotlib) (4.57.0)\n",
            "Requirement already satisfied: kiwisolver>=1.3.1 in /usr/local/lib/python3.11/dist-packages (from matplotlib) (1.4.8)\n",
            "Requirement already satisfied: numpy>=1.23 in /usr/local/lib/python3.11/dist-packages (from matplotlib) (2.0.2)\n",
            "Requirement already satisfied: packaging>=20.0 in /usr/local/lib/python3.11/dist-packages (from matplotlib) (24.2)\n",
            "Requirement already satisfied: pillow>=8 in /usr/local/lib/python3.11/dist-packages (from matplotlib) (11.1.0)\n",
            "Requirement already satisfied: pyparsing>=2.3.1 in /usr/local/lib/python3.11/dist-packages (from matplotlib) (3.2.3)\n",
            "Requirement already satisfied: python-dateutil>=2.7 in /usr/local/lib/python3.11/dist-packages (from matplotlib) (2.8.2)\n",
            "Requirement already satisfied: six>=1.5 in /usr/local/lib/python3.11/dist-packages (from python-dateutil>=2.7->matplotlib) (1.17.0)\n"
          ]
        },
        {
          "output_type": "stream",
          "name": "stderr",
          "text": [
            "  error: subprocess-exited-with-error\n",
            "  \n",
            "  × python setup.py egg_info did not run successfully.\n",
            "  │ exit code: 1\n",
            "  ╰─> See above for output.\n",
            "  \n",
            "  note: This error originates from a subprocess, and is likely not a problem with pip.\n",
            "error: metadata-generation-failed\n",
            "\n",
            "× Encountered error while generating package metadata.\n",
            "╰─> See above for output.\n",
            "\n",
            "note: This is an issue with the package mentioned above, not pip.\n",
            "hint: See above for details.\n"
          ]
        }
      ]
    },
    {
      "cell_type": "markdown",
      "source": [
        "## Load Python packages"
      ],
      "metadata": {
        "id": "wH9oF2RleEYl"
      }
    },
    {
      "cell_type": "code",
      "source": [
        "import tensorflow as tf\n",
        "import numpy as np\n",
        "from tensorflow import keras\n",
        "from tensorflow.keras import layers\n",
        "from scipy import stats\n",
        "import session_info\n",
        "# import tensorflow_probability as tfp\n",
        "import pdb\n",
        "from sklearn.metrics import r2_score\n",
        "import shutil\n",
        "import pandas as pd\n",
        "import re\n",
        "import os\n",
        "from Bio.Seq import Seq\n",
        "import gc\n",
        "import matplotlib.pyplot as plt\n",
        "import datetime\n",
        "import socket\n",
        "import time\n",
        "import json\n",
        "from collections import OrderedDict\n",
        "import random as python_random"
      ],
      "metadata": {
        "id": "XamZpd5EeGHR"
      },
      "execution_count": 9,
      "outputs": []
    },
    {
      "cell_type": "code",
      "source": [
        "if RUNTIME == 'colab':\n",
        "  from google.colab import drive"
      ],
      "metadata": {
        "id": "bHHclmdZm_T3"
      },
      "execution_count": 10,
      "outputs": []
    },
    {
      "cell_type": "markdown",
      "metadata": {
        "id": "j-TPW4ME18Vg"
      },
      "source": [
        "### TensorFlow setup"
      ]
    },
    {
      "cell_type": "code",
      "source": [
        "gpus = tf.config.list_physical_devices('GPU')\n",
        "for gpu in gpus:\n",
        "  tf.config.experimental.set_memory_growth(gpu, True)\n",
        "logical_gpus = tf.config.experimental.list_logical_devices('GPU')\n",
        "print('Physical GPUs: {}'.format(len(gpus)))\n",
        "print('Logical GPUs: {}'.format(len(logical_gpus)))"
      ],
      "metadata": {
        "id": "Wh7r7D7SeMEq",
        "colab": {
          "base_uri": "https://localhost:8080/"
        },
        "outputId": "169242cb-c8a0-4757-feee-879a8af8d3d3"
      },
      "execution_count": 11,
      "outputs": [
        {
          "output_type": "stream",
          "name": "stdout",
          "text": [
            "Physical GPUs: 1\n",
            "Logical GPUs: 1\n"
          ]
        }
      ]
    },
    {
      "cell_type": "code",
      "source": [
        "socket.gethostname()"
      ],
      "metadata": {
        "id": "dYGE9B-1A25u",
        "colab": {
          "base_uri": "https://localhost:8080/",
          "height": 35
        },
        "outputId": "dae2319c-5964-4bfb-ee8e-086dc85b735e"
      },
      "execution_count": 12,
      "outputs": [
        {
          "output_type": "execute_result",
          "data": {
            "text/plain": [
              "'0dfdab3d41bd'"
            ],
            "application/vnd.google.colaboratory.intrinsic+json": {
              "type": "string"
            }
          },
          "metadata": {},
          "execution_count": 12
        }
      ]
    },
    {
      "cell_type": "markdown",
      "metadata": {
        "id": "hl2lXOAv9ljx"
      },
      "source": [
        "## Parameters"
      ]
    },
    {
      "cell_type": "code",
      "source": [
        "ARGS = {\n",
        "  'model_id' : 'm20220727e',\n",
        "  'global_seed' : 123,\n",
        "  'shuffle_size' : 1000,\n",
        "  'max_width' : 100,\n",
        "  'head_len' : 17,\n",
        "  'tail_len' : 13,\n",
        "  'pct_ds' : 1, # % of total data for training/testing,\n",
        "  'train_split' : 0.95,\n",
        "  'alphabets' : {'A' : 0, 'C' : 1, 'G' : 2, 'T' : 3, 'N' : 4, 'M' : 5},\n",
        "  'learning_rate' : 0.001,\n",
        "  'initial_epoch': 0,\n",
        "  'epochs' : 20,\n",
        "  'batch_size' : 512,\n",
        "  'dropout_rate' : 0.1,\n",
        "  'kmer': 10,\n",
        "  'strides' : 1,\n",
        "  'embedding_dim' : 512,\n",
        "  'num_heads' : 8,\n",
        "  'ff_mult' : 4,\n",
        "  'num_projectors' : 32,\n",
        "  'n_blocks_regressor' : 4,\n",
        "  'warmup_steps' : 12500, # ~ 1 epoch\n",
        "  'mask_ratio' : 0.05,\n",
        "  'remote_sample_submission_file' : 'https://raw.githubusercontent.com/de-Boer-Lab/DREAM-2022/main/sample_submission.json',\n",
        "}\n",
        "if RUNTIME == 'msi':\n",
        "  ARGS['remote_data_dir'] = 'https://s3.msi.umn.edu/gongx030/projects/dream_PGE/training_data/pct_ds=' + str(ARGS['pct_ds']) + '/'\n",
        "  ARGS['local_data_dir'] = re.sub('https://', './', ARGS['remote_data_dir'])\n",
        "  ARGS['remote_checkpoint_dir'] = 'https://s3.msi.umn.edu/gongx030/projects/dream_PGE/notebooks_msi/' + ARGS['model_id'] + '/tf_ckpts/'\n",
        "  ARGS['remote_log_dir'] = 'https://s3.msi.umn.edu/gongx030/projects/dream_PGE/notebooks_msi/' + ARGS['model_id'] + '/log/'\n",
        "  ARGS['local_checkpoint_dir'] = re.sub('https://', './', ARGS['remote_checkpoint_dir'])\n",
        "  ARGS['local_log_dir'] = re.sub('https://', './', ARGS['remote_log_dir'])\n",
        "  ARGS['remote_test_data'] = 'https://s3.msi.umn.edu/gongx030/projects/dream_PGE/test_sequences.txt.gz'\n",
        "  ARGS['local_test_data'] = re.sub('https://', './', ARGS['remote_test_data'])\n",
        "  ARGS['local_sample_submission_file'] = re.sub('https://', './', ARGS['remote_sample_submission_file'])\n",
        "  ARGS['remote_prediction_file'] = 'https://s3.msi.umn.edu/gongx030/projects/dream_PGE/predictions/' + ARGS['model_id'] + '/pred.json'\n",
        "  ARGS['local_prediction_file'] = re.sub('https://', './', ARGS['remote_prediction_file'])\n",
        "  ARGS['s3_prediction_file'] = re.sub('https://s3.msi.umn.edu', 's3://', ARGS['remote_prediction_file'])\n",
        "  ARGS['remote_prediction_tsv_file'] = 'https://s3.msi.umn.edu/gongx030/projects/dream_PGE/predictions/' + ARGS['model_id'] + '/pred.tsv'\n",
        "  ARGS['local_prediction_tsv_file'] = re.sub('https://', './', ARGS['remote_prediction_tsv_file'])\n",
        "  ARGS['s3_prediction_tsv_file'] = re.sub('https://s3.msi.umn.edu', 's3://', ARGS['remote_prediction_tsv_file'])\n",
        "else:\n",
        "  ARGS['local_data_dir'] = '/content/drive/MyDrive/training_data/pct_ds=' + str(ARGS['pct_ds']) + '/'\n",
        "  ARGS['local_checkpoint_dir'] = '/content/drive/MyDrive/' + ARGS['model_id'] + '/tf_ckpts/'\n",
        "  ARGS['local_log_dir'] = '/content/drive/MyDrive/' + ARGS['model_id'] + '/log/'"
      ],
      "metadata": {
        "id": "D0pjVLfcfMl7"
      },
      "execution_count": 13,
      "outputs": []
    },
    {
      "cell_type": "markdown",
      "source": [
        "### Set seeds"
      ],
      "metadata": {
        "id": "5i5XrE1H2Iwq"
      }
    },
    {
      "cell_type": "code",
      "source": [
        "# The below is necessary for starting Numpy generated random numbers\n",
        "# in a well-defined initial state.\n",
        "np.random.seed(ARGS['global_seed'])\n",
        "\n",
        "# The below is necessary for starting core Python generated random numbers\n",
        "# in a well-defined state.\n",
        "tf.random.set_seed(ARGS['global_seed'])\n",
        "\n",
        "# The below set_seed() will make random number generation\n",
        "# in the TensorFlow backend have a well-defined initial state.\n",
        "# For further details, see:\n",
        "# https://www.tensorflow.org/api_docs/python/tf/random/set_seed\n",
        "python_random.seed(ARGS['global_seed'])"
      ],
      "metadata": {
        "id": "5LTFxNSIWQID"
      },
      "execution_count": 14,
      "outputs": []
    },
    {
      "cell_type": "markdown",
      "metadata": {
        "id": "hkXc5vbaiJGB"
      },
      "source": [
        "## Functions"
      ]
    },
    {
      "cell_type": "code",
      "execution_count": 15,
      "metadata": {
        "id": "5AHxqjy7iRlJ"
      },
      "outputs": [],
      "source": [
        "mse_loss = keras.losses.MeanSquaredError(reduction = 'none')"
      ]
    },
    {
      "cell_type": "code",
      "execution_count": 16,
      "metadata": {
        "id": "n69Cc4Yd76rm"
      },
      "outputs": [],
      "source": [
        "scc_loss = tf.keras.losses.SparseCategoricalCrossentropy(from_logits = True, reduction = 'none')"
      ]
    },
    {
      "cell_type": "markdown",
      "source": [
        "### pearson_r"
      ],
      "metadata": {
        "id": "oPZLHuW06Tcm"
      }
    },
    {
      "cell_type": "markdown",
      "source": [
        "https://www.tutorialexample.com/implement-pearson-correlation-coefficient-loss-in-tensorflow-tensorflow-tutorial/"
      ],
      "metadata": {
        "id": "TH7CX-Wk7Y2e"
      }
    },
    {
      "cell_type": "code",
      "source": [
        "def pearson_r(x, y):\n",
        "\n",
        "  mx = tf.reduce_mean(x, axis = 0, keepdims = True)\n",
        "  my = tf.reduce_mean(y, axis = 0, keepdims = True)\n",
        "  xm = x - mx\n",
        "  ym = y - my\n",
        "  t1_norm = tf.nn.l2_normalize(xm, axis = 0)\n",
        "  t2_norm = tf.nn.l2_normalize(ym, axis = 0)\n",
        "  return tf.reduce_sum(tf.multiply(t1_norm, t2_norm))"
      ],
      "metadata": {
        "id": "bDou1j1A6S2j"
      },
      "execution_count": 17,
      "outputs": []
    },
    {
      "cell_type": "code",
      "source": [
        "x = np.random.rand(100)\n",
        "y = np.random.rand(100)\n",
        "print('pearson r (stats.pearsonr): {}'.format(stats.pearsonr(x, y)[0]))\n",
        "print('pearson r (pearson_r): {}'.format(pearson_r(tf.expand_dims(x, 1), tf.expand_dims(y, 1))))"
      ],
      "metadata": {
        "id": "4E4kvC_v6oYG",
        "colab": {
          "base_uri": "https://localhost:8080/"
        },
        "outputId": "0cd888e6-c43b-441c-99e1-295426b00dad"
      },
      "execution_count": 18,
      "outputs": [
        {
          "output_type": "stream",
          "name": "stdout",
          "text": [
            "pearson r (stats.pearsonr): -0.09270195576139686\n",
            "pearson r (pearson_r): -0.09270195576139688\n"
          ]
        }
      ]
    },
    {
      "cell_type": "markdown",
      "source": [
        "### GLULayer"
      ],
      "metadata": {
        "id": "mrQ9T4-oSk8X"
      }
    },
    {
      "cell_type": "code",
      "source": [
        "class GLULayer(layers.Layer):\n",
        "  def __init__(self, dim):\n",
        "    super(GLULayer, self).__init__()\n",
        "    self.dim = dim\n",
        "\n",
        "  def call(self, x):\n",
        "    out, gate = tf.split(x, 2, axis = self.dim)\n",
        "    return out * tf.sigmoid(gate)"
      ],
      "metadata": {
        "id": "oMX5LC1aSkRK"
      },
      "execution_count": 19,
      "outputs": []
    },
    {
      "cell_type": "code",
      "source": [
        "layer = GLULayer(dim = 2)\n",
        "x = tf.random.uniform([3, 10, 6])\n",
        "layer(x).shape"
      ],
      "metadata": {
        "id": "ivpHjDlQSxUU",
        "colab": {
          "base_uri": "https://localhost:8080/"
        },
        "outputId": "9bf6c95c-537c-4f50-b6d7-89a9905de9d1"
      },
      "execution_count": 20,
      "outputs": [
        {
          "output_type": "execute_result",
          "data": {
            "text/plain": [
              "TensorShape([3, 10, 3])"
            ]
          },
          "metadata": {},
          "execution_count": 20
        }
      ]
    },
    {
      "cell_type": "markdown",
      "source": [
        "### SwiGLU"
      ],
      "metadata": {
        "id": "tHdNKhzVvsMf"
      }
    },
    {
      "cell_type": "code",
      "source": [
        "class SwiGLULayer(layers.Layer):\n",
        "  def __init__(self, dim):\n",
        "    super(SwiGLULayer, self).__init__()\n",
        "    self.dim = dim\n",
        "    self.swish = layers.Activation('swish')\n",
        "\n",
        "  def call(self, x):\n",
        "    out, gate = tf.split(x, 2, axis = self.dim)\n",
        "    return out * self.swish(gate)"
      ],
      "metadata": {
        "id": "WeSyNETvvuex"
      },
      "execution_count": 21,
      "outputs": []
    },
    {
      "cell_type": "code",
      "source": [
        "layer = GLULayer(dim = 2)\n",
        "x = tf.random.uniform([3, 10, 6])\n",
        "layer(x).shape"
      ],
      "metadata": {
        "id": "JuwI-YXjvuex",
        "colab": {
          "base_uri": "https://localhost:8080/"
        },
        "outputId": "ae9fe749-4c19-43a1-8f01-3c2d91b99643"
      },
      "execution_count": 22,
      "outputs": [
        {
          "output_type": "execute_result",
          "data": {
            "text/plain": [
              "TensorShape([3, 10, 3])"
            ]
          },
          "metadata": {},
          "execution_count": 22
        }
      ]
    },
    {
      "cell_type": "markdown",
      "source": [
        "### FeedForwardSwiGLU"
      ],
      "metadata": {
        "id": "i7BVgkw-w4UO"
      }
    },
    {
      "cell_type": "code",
      "source": [
        "class FeedForwardSwiGLU(layers.Layer):\n",
        "  def __init__(self, embedding_dim, mult=4, rate = 0.0, use_bias = False):\n",
        "    super(FeedForwardSwiGLU, self).__init__()\n",
        "    self.net = tf.keras.Sequential(\n",
        "      [\n",
        "        layers.LayerNormalization(epsilon = 1e-6),\n",
        "        layers.Dense(embedding_dim * mult, use_bias = use_bias),\n",
        "        SwiGLULayer(dim = 2),\n",
        "        layers.Dropout(rate),\n",
        "        layers.Dense(embedding_dim, use_bias = use_bias),\n",
        "        layers.Dropout(rate),\n",
        "      ]\n",
        "    )\n",
        "\n",
        "  def call(self, inputs):\n",
        "    return self.net(inputs)"
      ],
      "metadata": {
        "id": "eVdwwIxbw4UP"
      },
      "execution_count": 23,
      "outputs": []
    },
    {
      "cell_type": "code",
      "source": [
        "ffn = FeedForwardSwiGLU(embedding_dim = 5, mult = 4)\n",
        "x = tf.random.uniform([3, 10, 5])\n",
        "print(ffn(x).shape)"
      ],
      "metadata": {
        "id": "bdHfQ6HHw4UP",
        "colab": {
          "base_uri": "https://localhost:8080/"
        },
        "outputId": "b49aa7b7-4f8d-4647-983c-135edd5e1380"
      },
      "execution_count": 24,
      "outputs": [
        {
          "output_type": "stream",
          "name": "stdout",
          "text": [
            "(3, 10, 5)\n"
          ]
        }
      ]
    },
    {
      "cell_type": "markdown",
      "source": [
        "### CustomSchedule"
      ],
      "metadata": {
        "id": "rke3X-N6-n9S"
      }
    },
    {
      "cell_type": "code",
      "source": [
        "class CustomSchedule(tf.keras.optimizers.schedules.LearningRateSchedule):\n",
        "  def __init__(self, d_model, warmup_steps=4000):\n",
        "    super(CustomSchedule, self).__init__()\n",
        "\n",
        "    self.d_model = d_model\n",
        "    self.d_model = tf.cast(self.d_model, tf.float32)\n",
        "\n",
        "    self.warmup_steps = warmup_steps\n",
        "\n",
        "  def __call__(self, step):\n",
        "    arg1 = tf.math.rsqrt(step)\n",
        "    arg2 = step * (self.warmup_steps ** -1.5)\n",
        "\n",
        "    return tf.math.rsqrt(self.d_model) * tf.math.minimum(arg1, arg2)"
      ],
      "metadata": {
        "id": "hNYjuoTd-jsC"
      },
      "execution_count": 25,
      "outputs": []
    },
    {
      "cell_type": "code",
      "source": [
        "d_model = 128\n",
        "learning_rate = CustomSchedule(d_model)\n",
        "temp_learning_rate_schedule = CustomSchedule(d_model, warmup_steps=4000)"
      ],
      "metadata": {
        "id": "eCHvjE5N-s3-"
      },
      "execution_count": 26,
      "outputs": []
    },
    {
      "cell_type": "code",
      "source": [
        "plt.plot(temp_learning_rate_schedule(tf.range(40000, dtype=tf.float32)))\n",
        "plt.ylabel('Learning Rate')\n",
        "plt.xlabel('Train Step')"
      ],
      "metadata": {
        "id": "HYFkjhvb-2OG",
        "colab": {
          "base_uri": "https://localhost:8080/",
          "height": 467
        },
        "outputId": "b4896847-0b06-49ca-cdc2-ce85d129d589"
      },
      "execution_count": 27,
      "outputs": [
        {
          "output_type": "execute_result",
          "data": {
            "text/plain": [
              "Text(0.5, 0, 'Train Step')"
            ]
          },
          "metadata": {},
          "execution_count": 27
        },
        {
          "output_type": "display_data",
          "data": {
            "text/plain": [
              "<Figure size 640x480 with 1 Axes>"
            ],
            "image/png": "[encoded data removed]"
          },
          "metadata": {}
        }
      ]
    },
    {
      "cell_type": "markdown",
      "source": [
        "### ConformerSASwiGLULayer"
      ],
      "metadata": {
        "id": "wGqeHeQRxxLY"
      }
    },
    {
      "cell_type": "code",
      "execution_count": 28,
      "metadata": {
        "id": "saxlznhLxxLY"
      },
      "outputs": [],
      "source": [
        "class ConformerSASwiGLULayer(layers.Layer):\n",
        "  def __init__(self, embedding_dim,  ff_mult = 4, kernel_size = 15, rate = 0.2, num_heads = 4, use_bias = False):\n",
        "    super(ConformerSASwiGLULayer, self).__init__()\n",
        "    self.ff1 = FeedForwardSwiGLU(embedding_dim = embedding_dim, mult = ff_mult, rate = rate, use_bias = use_bias)\n",
        "    self.conv = tf.keras.Sequential([\n",
        "      layers.LayerNormalization(epsilon = 1e-6),\n",
        "      layers.SeparableConv1D(filters = embedding_dim, kernel_size = kernel_size, padding = 'same', activation = 'relu'),\n",
        "      layers.Dropout(rate),\n",
        "    ])\n",
        "    self.layernorm = layers.LayerNormalization(epsilon = 1e-6)\n",
        "    self.attn = layers.MultiHeadAttention(num_heads = num_heads, key_dim = embedding_dim)\n",
        "    self.ff2 = FeedForwardSwiGLU(embedding_dim = embedding_dim, mult = ff_mult, rate = rate, use_bias = use_bias)\n",
        "\n",
        "  def call(self, x):\n",
        "    x = tf.cast(x, dtype = tf.dtypes.float32)\n",
        "    x = x + 0.5 * self.ff1(x)\n",
        "    x = x + self.conv(x)\n",
        "    x = self.layernorm(x)\n",
        "    x = x + self.attn(x, x)\n",
        "    x = x + 0.5 * self.ff2(x)\n",
        "    return x"
      ]
    },
    {
      "cell_type": "code",
      "source": [
        "layer = ConformerSASwiGLULayer(embedding_dim = 14)\n",
        "x = tf.random.uniform([3, 10, 14])\n",
        "print(layer(x).shape)"
      ],
      "metadata": {
        "id": "I5mMf8GPxxLZ",
        "colab": {
          "base_uri": "https://localhost:8080/"
        },
        "outputId": "e472cf81-32a2-4cae-a6aa-41efd145347a"
      },
      "execution_count": 29,
      "outputs": [
        {
          "output_type": "stream",
          "name": "stdout",
          "text": [
            "(3, 10, 14)\n"
          ]
        }
      ]
    },
    {
      "cell_type": "markdown",
      "source": [
        "### SequenceMaskLayer"
      ],
      "metadata": {
        "id": "CKbk2vhOTgA5"
      }
    },
    {
      "cell_type": "code",
      "source": [
        "class SequenceMaskLayer(layers.Layer):\n",
        "  def __init__(self, n_positions, ratio = 0.2):\n",
        "    super(SequenceMaskLayer, self).__init__()\n",
        "    self.ratio = ratio\n",
        "    self.n_positions = n_positions\n",
        "    self.N = 4\n",
        "    self.M = 5\n",
        "\n",
        "  def call(self, x):\n",
        "\n",
        "    if self.ratio > 0:\n",
        "      m = tf.random.uniform(tf.shape(x)) < self.ratio\n",
        "      m = tf.cast(m, dtype = tf.uint8)\n",
        "      is_valid = tf.cast(tf.math.not_equal(x, self.N), tf.uint8)\n",
        "      m = m * is_valid\n",
        "      x0 = tf.ones(tf.shape(x), dtype = tf.uint8) * self.M\n",
        "\n",
        "      x = m * x0 + (1 - m) * x\n",
        "      m = tf.cast(m, dtype = tf.float32)\n",
        "    else:\n",
        "      m = tf.zeros(tf.shape(x))\n",
        "\n",
        "    return x, m"
      ],
      "metadata": {
        "id": "UPGXsnfmTgA6"
      },
      "execution_count": 30,
      "outputs": []
    },
    {
      "cell_type": "code",
      "source": [
        "layer = SequenceMaskLayer(n_positions = 20, ratio = 0.2)\n",
        "x = tf.random.uniform([3, 20], maxval = 5)\n",
        "x = tf.cast(x, tf.uint8)\n",
        "print(x)\n",
        "x, m = layer(x)\n",
        "print(x)\n",
        "print(m)"
      ],
      "metadata": {
        "id": "TOj2tUQmTgA6",
        "colab": {
          "base_uri": "https://localhost:8080/"
        },
        "outputId": "48a65b32-9c98-4d90-8ebb-56f60813df35"
      },
      "execution_count": 31,
      "outputs": [
        {
          "output_type": "stream",
          "name": "stdout",
          "text": [
            "tf.Tensor(\n",
            "[[4 3 1 0 1 1 3 2 3 0 1 1 1 3 2 1 2 4 0 4]\n",
            " [0 0 1 4 2 4 0 2 1 4 0 1 1 4 4 0 1 2 1 3]\n",
            " [2 1 4 1 0 0 0 3 2 2 4 0 3 0 3 0 3 4 1 0]], shape=(3, 20), dtype=uint8)\n",
            "tf.Tensor(\n",
            "[[4 3 5 0 1 5 3 5 5 0 5 1 5 3 2 5 5 4 0 4]\n",
            " [0 5 1 4 5 4 0 2 5 4 5 1 1 4 4 0 1 2 1 3]\n",
            " [2 1 4 1 0 0 0 3 2 2 4 0 3 0 3 5 3 4 5 0]], shape=(3, 20), dtype=uint8)\n",
            "tf.Tensor(\n",
            "[[0. 0. 1. 0. 0. 1. 0. 1. 1. 0. 1. 0. 1. 0. 0. 1. 1. 0. 0. 0.]\n",
            " [0. 1. 0. 0. 1. 0. 0. 0. 1. 0. 1. 0. 0. 0. 0. 0. 0. 0. 0. 0.]\n",
            " [0. 0. 0. 0. 0. 0. 0. 0. 0. 0. 0. 0. 0. 0. 0. 1. 0. 0. 1. 0.]], shape=(3, 20), dtype=float32)\n"
          ]
        }
      ]
    },
    {
      "cell_type": "markdown",
      "metadata": {
        "id": "jGFLv3peCCKS"
      },
      "source": [
        "## Read data"
      ]
    },
    {
      "cell_type": "code",
      "execution_count": 32,
      "metadata": {
        "id": "om_YoxPICCKS"
      },
      "outputs": [],
      "source": [
        "input_dim = int(6) # A,C,G,T,N,M\n",
        "#input_dim = int(5) # A,C,G,T,N\n",
        "n_positions = ARGS['max_width'] * 2"
      ]
    },
    {
      "cell_type": "markdown",
      "metadata": {
        "id": "I9CPXMei2W9E"
      },
      "source": [
        "The tfdataset was prepraed by this notebook: https://github.com/ikwak2/dream_PGE/blob/main/notebooks/prepare_tfdatasets.ipynb"
      ]
    },
    {
      "cell_type": "code",
      "execution_count": 35,
      "metadata": {
        "id": "wOqk480wuFye"
      },
      "outputs": [],
      "source": [
        "ds = tf.data.experimental.load(ARGS['local_data_dir'])"
      ]
    },
    {
      "cell_type": "code",
      "source": [
        "!ls"
      ],
      "metadata": {
        "id": "lv4VYzc9Ytie",
        "colab": {
          "base_uri": "https://localhost:8080/"
        },
        "outputId": "eb9328cc-add4-4f05-a275-741666c4d566"
      },
      "execution_count": 36,
      "outputs": [
        {
          "output_type": "stream",
          "name": "stdout",
          "text": [
            "__MACOSX  s3.msi.umn.edu  s3.msi.umn.edu.zip  sample_data\n"
          ]
        }
      ]
    },
    {
      "cell_type": "code",
      "execution_count": 37,
      "metadata": {
        "id": "VbU-MCtK1B7k",
        "colab": {
          "base_uri": "https://localhost:8080/"
        },
        "outputId": "078cdbe8-4816-4e2e-a9fc-31b4f4c7c3f8"
      },
      "outputs": [
        {
          "output_type": "stream",
          "name": "stdout",
          "text": [
            "downsampled dataset size: 6737568\n",
            "training dataset size: 6400689\n"
          ]
        }
      ],
      "source": [
        "n = int(ds.cardinality())\n",
        "n_train = int(n * ARGS['train_split'])\n",
        "print('downsampled dataset size: %d' % (n))\n",
        "print('training dataset size: %d' % (n_train))"
      ]
    },
    {
      "cell_type": "code",
      "execution_count": 38,
      "metadata": {
        "id": "KtNM9BPoCCKT"
      },
      "outputs": [],
      "source": [
        "ds = ds.shuffle(ARGS['shuffle_size'], seed = 1)"
      ]
    },
    {
      "cell_type": "code",
      "execution_count": 39,
      "metadata": {
        "id": "zQBqfMrpCCKT",
        "colab": {
          "base_uri": "https://localhost:8080/"
        },
        "outputId": "fc2e36d3-5ddb-4631-d022-cfe8fee9e359"
      },
      "outputs": [
        {
          "output_type": "stream",
          "name": "stdout",
          "text": [
            "# training samples: 6400689\n",
            "# test samples: 336879\n"
          ]
        }
      ],
      "source": [
        "train_ds = ds.take(n_train)\n",
        "test_ds = ds.skip(n_train)\n",
        "print('# training samples: %d' % (train_ds.cardinality()))\n",
        "print('# test samples: %d' % (test_ds.cardinality()))"
      ]
    },
    {
      "cell_type": "code",
      "source": [
        "train_ds = train_ds.batch(ARGS['batch_size'])\n",
        "test_ds = test_ds.batch(ARGS['batch_size'])"
      ],
      "metadata": {
        "id": "Cy45m_ZgwmBt"
      },
      "execution_count": 40,
      "outputs": []
    },
    {
      "cell_type": "code",
      "source": [
        "train_ds.element_spec"
      ],
      "metadata": {
        "id": "MNyS46F8TFRB",
        "colab": {
          "base_uri": "https://localhost:8080/"
        },
        "outputId": "f39e5ae9-8ee8-4910-cadd-751ba614773d"
      },
      "execution_count": 41,
      "outputs": [
        {
          "output_type": "execute_result",
          "data": {
            "text/plain": [
              "{'expression': TensorSpec(shape=(None,), dtype=tf.float32, name=None),\n",
              " 'base': TensorSpec(shape=(None, 200), dtype=tf.uint8, name=None),\n",
              " 'seq': TensorSpec(shape=(None, 200), dtype=tf.uint8, name=None)}"
            ]
          },
          "metadata": {},
          "execution_count": 41
        }
      ]
    },
    {
      "cell_type": "markdown",
      "source": [
        "## The regressor"
      ],
      "metadata": {
        "id": "3KwOLqNOwU3U"
      }
    },
    {
      "cell_type": "code",
      "source": [
        "class Regressor(keras.Model):\n",
        "  def __init__(self, n_positions, kmer = 3, embedding_dim = 32, input_dim = 5, n_blocks = 4, kernel_size =15, rate = 0.2, strides = 2, ratio = 0.2, num_heads = 4, ff_mult = 4, use_bias = False, num_projectors = 8):\n",
        "    super(Regressor, self).__init__()\n",
        "    self.n_positions = int(n_positions / strides)\n",
        "    self.input_dim = input_dim\n",
        "    self.kmer = kmer\n",
        "    self.strides = strides\n",
        "    self.num_projectors = num_projectors\n",
        "    self.n_blocks = n_blocks\n",
        "    self.masking = SequenceMaskLayer(n_positions = n_positions, ratio = ratio)\n",
        "    self.pos_embedding = layers.Embedding(self.n_positions, embedding_dim)\n",
        "    self.strand_embedding = layers.Embedding(2, embedding_dim) # plus/minus strands\n",
        "    self.expression_embedding = layers.Dense(embedding_dim)\n",
        "    self.kmer_dense = layers.Dense(embedding_dim)\n",
        "    self.blocks = keras.Sequential([ConformerSASwiGLULayer(embedding_dim = embedding_dim, kernel_size = kernel_size, rate = rate, num_heads = num_heads) for _ in range(n_blocks)])\n",
        "    self.dropout = layers.Dropout(rate)\n",
        "    self.expression_dense = layers.Dense(1)\n",
        "    self.nucleotide_dense = layers.Dense(input_dim)\n",
        "\n",
        "  def call(self, x):\n",
        "\n",
        "    batch_size = tf.shape(x['seq'])[0]\n",
        "\n",
        "    x = tf.one_hot(x['seq'], self.input_dim)\n",
        "\n",
        "    x = tf.expand_dims(x, 2)\n",
        "    x = tf.image.extract_patches(x, sizes = [1, self.kmer, 1, 1], strides = [1, self.strides, 1, 1], rates = [1, 1, 1, 1], padding = 'SAME')\n",
        "    x = tf.squeeze(x, 2)\n",
        "\n",
        "    x = self.kmer_dense(x)\n",
        "\n",
        "    pos = tf.range(start=0, limit=self.n_positions, delta=1)\n",
        "    pos = tf.expand_dims(pos, 0)\n",
        "    pos = self.pos_embedding(pos)\n",
        "\n",
        "    strand = tf.repeat([0,1], repeats = int(self.n_positions / 2))\n",
        "    strand = tf.expand_dims(strand, 0)\n",
        "    strand = self.strand_embedding(strand)\n",
        "\n",
        "    x = x + pos + strand\n",
        "\n",
        "    expression = tf.zeros((batch_size, self.num_projectors, 1), dtype = tf.float32)\n",
        "    expression = self.expression_embedding(expression)\n",
        "\n",
        "    x = tf.concat([expression, x], axis = 1)\n",
        "    x = self.blocks(x)\n",
        "\n",
        "    expression = x[:,:self.num_projectors,:]\n",
        "    x = x[:, -self.n_positions:, :]\n",
        "\n",
        "    expression = self.dropout(expression)\n",
        "    expression = self.expression_dense(expression)\n",
        "    expression = tf.reduce_mean(expression, 1)\n",
        "\n",
        "    x = self.nucleotide_dense(x)\n",
        "\n",
        "    return expression, x\n",
        "\n",
        "  def train_step(self, batch):\n",
        "\n",
        "    seq, mask = self.masking(batch['seq'])\n",
        "\n",
        "    with tf.GradientTape() as tape:\n",
        "      expression, seq_pred = self({'seq' : seq})\n",
        "      loss_expression = mse_loss(batch['expression'], expression)\n",
        "      loss_expression = tf.reduce_mean(loss_expression)\n",
        "      loss_seq = mask * scc_loss(batch['seq'], seq_pred)\n",
        "      loss_seq = tf.reduce_sum(loss_seq) / (tf.reduce_sum(mask) + 1)\n",
        "      loss = loss_expression + loss_seq\n",
        "\n",
        "    gradients = tape.gradient(loss, self.trainable_variables)\n",
        "    self.optimizer.apply_gradients(zip(gradients, self.trainable_variables))\n",
        "\n",
        "    self.compiled_metrics.update_state(batch['expression'], expression)\n",
        "    res = {'loss' : loss, 'loss_seq' : loss_seq, 'loss_expression' : loss_expression}\n",
        "    res.update({m.name: m.result() for m in self.metrics})\n",
        "    return res\n",
        "\n",
        "def test_step(self, batch):\n",
        "    # During validation, we only care about the expression output\n",
        "    expression, _ = self(batch)\n",
        "\n",
        "    # Update metrics for the expression output only\n",
        "    self.compiled_metrics.update_state(batch['expression'], expression)\n",
        "\n",
        "    # Return metrics\n",
        "    return {m.name: m.result() for m in self.metrics}"
      ],
      "metadata": {
        "id": "DjpQ5MFlpZ5v"
      },
      "execution_count": 42,
      "outputs": []
    },
    {
      "cell_type": "code",
      "source": [
        "model = Regressor(embedding_dim = 12, n_positions = 120, kernel_size = 3, strides = 1, num_projectors = ARGS['num_projectors'])\n",
        "x = tf.random.uniform((3, 120), maxval = 5)\n",
        "x = tf.cast(x, dtype = tf.uint8)\n",
        "expression_pred, x = model({'seq' : x})\n",
        "print(expression_pred.shape)\n",
        "print(x.shape)"
      ],
      "metadata": {
        "id": "JHA8irohpZ5w",
        "colab": {
          "base_uri": "https://localhost:8080/"
        },
        "outputId": "c149953a-a546-40be-83d9-fafecc3bbe75"
      },
      "execution_count": 43,
      "outputs": [
        {
          "output_type": "stream",
          "name": "stderr",
          "text": [
            "/usr/local/lib/python3.11/dist-packages/keras/src/layers/layer.py:393: UserWarning: `build()` was called on layer 'regressor', however the layer does not have a `build()` method implemented and it looks like it has unbuilt state. This will cause the layer to be marked as built, despite not being actually built, which may cause failures down the line. Make sure to implement a proper `build()` method.\n",
            "  warnings.warn(\n"
          ]
        },
        {
          "output_type": "stream",
          "name": "stdout",
          "text": [
            "(3, 1)\n",
            "(3, 120, 5)\n"
          ]
        }
      ]
    },
    {
      "cell_type": "code",
      "source": [
        "strategy = tf.distribute.MirroredStrategy()\n",
        "#strategy = tf.distribute.experimental.CentralStorageStrategy()\n",
        "#strategy = tf.distribute.experimental.MultiWorkerMirroredStrategy()"
      ],
      "metadata": {
        "id": "t_QJg04-pZ5w"
      },
      "execution_count": 44,
      "outputs": []
    },
    {
      "cell_type": "code",
      "source": [
        "with strategy.scope():\n",
        "  model = Regressor(\n",
        "    n_positions = n_positions,\n",
        "    embedding_dim = ARGS['embedding_dim'],\n",
        "    n_blocks = ARGS['n_blocks_regressor'],\n",
        "    kmer = ARGS['kmer'],\n",
        "    input_dim = input_dim,\n",
        "    strides = ARGS['strides'],\n",
        "    ratio = ARGS['mask_ratio'],\n",
        "    num_heads = ARGS['num_heads'],\n",
        "    rate = ARGS['dropout_rate'],\n",
        "    num_projectors = ARGS['num_projectors'],\n",
        "  )"
      ],
      "metadata": {
        "id": "1s-DI91ppZ5w"
      },
      "execution_count": 45,
      "outputs": []
    },
    {
      "cell_type": "code",
      "source": [
        "learning_rate = CustomSchedule(ARGS['embedding_dim'], warmup_steps = ARGS['warmup_steps'])\n",
        "optimizer = tf.keras.optimizers.Adam(\n",
        "    learning_rate,\n",
        "    beta_1 = 0.9,\n",
        "    beta_2 = 0.98,\n",
        "    epsilon = 1e-9,\n",
        "    global_clipnorm = 1.0\n",
        ")"
      ],
      "metadata": {
        "id": "b9CPAqzqbS4C"
      },
      "execution_count": 47,
      "outputs": []
    },
    {
      "cell_type": "code",
      "source": [
        "# Define the metrics separately from compile\n",
        "expression_metric = pearson_r  # For the first output\n",
        "seq_metric = None  # For the second output (no metric)\n",
        "\n",
        "# Then compile with a list of metrics\n",
        "model.compile(\n",
        "  optimizer=optimizer,\n",
        "  metrics=[expression_metric, seq_metric]\n",
        ")"
      ],
      "metadata": {
        "id": "7KW-9ktVbiak"
      },
      "execution_count": 60,
      "outputs": []
    },
    {
      "cell_type": "code",
      "source": [
        "if ARGS['train_split'] < 1:\n",
        "  monitor = 'val_pearson_r'\n",
        "else:\n",
        "  monitor = 'pearson_r'"
      ],
      "metadata": {
        "id": "mokLgrTWV8i8"
      },
      "execution_count": 49,
      "outputs": []
    },
    {
      "cell_type": "code",
      "source": [
        "model_checkpoint_callback = tf.keras.callbacks.ModelCheckpoint(\n",
        "  filepath = ARGS['local_checkpoint_dir'] + 'model.weights.h5',  # Add filename with proper extension\n",
        "  save_weights_only = True,\n",
        "  monitor = monitor,\n",
        "  mode='max',\n",
        "  save_best_only = True,\n",
        "  save_freq = 'epoch',\n",
        ")"
      ],
      "metadata": {
        "id": "vBB1dWoGL-CR"
      },
      "execution_count": 52,
      "outputs": []
    },
    {
      "cell_type": "markdown",
      "source": [
        "## Model fitting"
      ],
      "metadata": {
        "id": "JOtXgSxYvy0F"
      }
    },
    {
      "cell_type": "markdown",
      "source": [
        "### Epoch 1\n",
        "\n",
        "initial epoch: 1"
      ],
      "metadata": {
        "id": "zGLEOzKhpPE2"
      }
    },
    {
      "cell_type": "code",
      "source": [
        "if ARGS['train_split'] < 1:\n",
        "  model.fit(\n",
        "    train_ds,\n",
        "    validation_data = test_ds,\n",
        "    epochs = ARGS['epochs'],\n",
        "    callbacks = [model_checkpoint_callback],\n",
        "    initial_epoch = 1 - 1,\n",
        "  )\n",
        "else:\n",
        "  model.fit(\n",
        "    train_ds,\n",
        "    epochs = ARGS['epochs'],\n",
        "    callbacks = [model_checkpoint_callback],\n",
        "    initial_epoch = 1 - 1,\n",
        "  )\n"
      ],
      "metadata": {
        "id": "spFmkqwZDwDb",
        "colab": {
          "base_uri": "https://localhost:8080/",
          "height": 365
        },
        "outputId": "c438e7a5-f2ba-4058-ce44-39272025b0e9"
      },
      "execution_count": 61,
      "outputs": [
        {
          "output_type": "error",
          "ename": "ValueError",
          "evalue": "Tried to convert 'input' to a tensor and failed. Error: None values not supported.",
          "traceback": [
            "\u001b[0;31m---------------------------------------------------------------------------\u001b[0m",
            "\u001b[0;31mValueError\u001b[0m                                Traceback (most recent call last)",
            "\u001b[0;32m<ipython-input-61-0bb42df81789>\u001b[0m in \u001b[0;36m<cell line: 0>\u001b[0;34m()\u001b[0m\n\u001b[1;32m      1\u001b[0m \u001b[0;32mif\u001b[0m \u001b[0mARGS\u001b[0m\u001b[0;34m[\u001b[0m\u001b[0;34m'train_split'\u001b[0m\u001b[0;34m]\u001b[0m \u001b[0;34m<\u001b[0m \u001b[0;36m1\u001b[0m\u001b[0;34m:\u001b[0m\u001b[0;34m\u001b[0m\u001b[0;34m\u001b[0m\u001b[0m\n\u001b[0;32m----> 2\u001b[0;31m   model.fit(\n\u001b[0m\u001b[1;32m      3\u001b[0m     \u001b[0mtrain_ds\u001b[0m\u001b[0;34m,\u001b[0m\u001b[0;34m\u001b[0m\u001b[0;34m\u001b[0m\u001b[0m\n\u001b[1;32m      4\u001b[0m     \u001b[0mvalidation_data\u001b[0m \u001b[0;34m=\u001b[0m \u001b[0mtest_ds\u001b[0m\u001b[0;34m,\u001b[0m\u001b[0;34m\u001b[0m\u001b[0;34m\u001b[0m\u001b[0m\n\u001b[1;32m      5\u001b[0m     \u001b[0mepochs\u001b[0m \u001b[0;34m=\u001b[0m \u001b[0mARGS\u001b[0m\u001b[0;34m[\u001b[0m\u001b[0;34m'epochs'\u001b[0m\u001b[0;34m]\u001b[0m\u001b[0;34m,\u001b[0m\u001b[0;34m\u001b[0m\u001b[0;34m\u001b[0m\u001b[0m\n",
            "\u001b[0;32m/usr/local/lib/python3.11/dist-packages/keras/src/utils/traceback_utils.py\u001b[0m in \u001b[0;36merror_handler\u001b[0;34m(*args, **kwargs)\u001b[0m\n\u001b[1;32m    120\u001b[0m             \u001b[0;31m# To get the full stack trace, call:\u001b[0m\u001b[0;34m\u001b[0m\u001b[0;34m\u001b[0m\u001b[0m\n\u001b[1;32m    121\u001b[0m             \u001b[0;31m# `keras.config.disable_traceback_filtering()`\u001b[0m\u001b[0;34m\u001b[0m\u001b[0;34m\u001b[0m\u001b[0m\n\u001b[0;32m--> 122\u001b[0;31m             \u001b[0;32mraise\u001b[0m \u001b[0me\u001b[0m\u001b[0;34m.\u001b[0m\u001b[0mwith_traceback\u001b[0m\u001b[0;34m(\u001b[0m\u001b[0mfiltered_tb\u001b[0m\u001b[0;34m)\u001b[0m \u001b[0;32mfrom\u001b[0m \u001b[0;32mNone\u001b[0m\u001b[0;34m\u001b[0m\u001b[0;34m\u001b[0m\u001b[0m\n\u001b[0m\u001b[1;32m    123\u001b[0m         \u001b[0;32mfinally\u001b[0m\u001b[0;34m:\u001b[0m\u001b[0;34m\u001b[0m\u001b[0;34m\u001b[0m\u001b[0m\n\u001b[1;32m    124\u001b[0m             \u001b[0;32mdel\u001b[0m \u001b[0mfiltered_tb\u001b[0m\u001b[0;34m\u001b[0m\u001b[0;34m\u001b[0m\u001b[0m\n",
            "\u001b[0;32m<ipython-input-17-016470699663>\u001b[0m in \u001b[0;36mpearson_r\u001b[0;34m(x, y)\u001b[0m\n\u001b[1;32m      1\u001b[0m \u001b[0;32mdef\u001b[0m \u001b[0mpearson_r\u001b[0m\u001b[0;34m(\u001b[0m\u001b[0mx\u001b[0m\u001b[0;34m,\u001b[0m \u001b[0my\u001b[0m\u001b[0;34m)\u001b[0m\u001b[0;34m:\u001b[0m\u001b[0;34m\u001b[0m\u001b[0;34m\u001b[0m\u001b[0m\n\u001b[1;32m      2\u001b[0m \u001b[0;34m\u001b[0m\u001b[0m\n\u001b[0;32m----> 3\u001b[0;31m   \u001b[0mmx\u001b[0m \u001b[0;34m=\u001b[0m \u001b[0mtf\u001b[0m\u001b[0;34m.\u001b[0m\u001b[0mreduce_mean\u001b[0m\u001b[0;34m(\u001b[0m\u001b[0mx\u001b[0m\u001b[0;34m,\u001b[0m \u001b[0maxis\u001b[0m \u001b[0;34m=\u001b[0m \u001b[0;36m0\u001b[0m\u001b[0;34m,\u001b[0m \u001b[0mkeepdims\u001b[0m \u001b[0;34m=\u001b[0m \u001b[0;32mTrue\u001b[0m\u001b[0;34m)\u001b[0m\u001b[0;34m\u001b[0m\u001b[0;34m\u001b[0m\u001b[0m\n\u001b[0m\u001b[1;32m      4\u001b[0m   \u001b[0mmy\u001b[0m \u001b[0;34m=\u001b[0m \u001b[0mtf\u001b[0m\u001b[0;34m.\u001b[0m\u001b[0mreduce_mean\u001b[0m\u001b[0;34m(\u001b[0m\u001b[0my\u001b[0m\u001b[0;34m,\u001b[0m \u001b[0maxis\u001b[0m \u001b[0;34m=\u001b[0m \u001b[0;36m0\u001b[0m\u001b[0;34m,\u001b[0m \u001b[0mkeepdims\u001b[0m \u001b[0;34m=\u001b[0m \u001b[0;32mTrue\u001b[0m\u001b[0;34m)\u001b[0m\u001b[0;34m\u001b[0m\u001b[0;34m\u001b[0m\u001b[0m\n\u001b[1;32m      5\u001b[0m   \u001b[0mxm\u001b[0m \u001b[0;34m=\u001b[0m \u001b[0mx\u001b[0m \u001b[0;34m-\u001b[0m \u001b[0mmx\u001b[0m\u001b[0;34m\u001b[0m\u001b[0;34m\u001b[0m\u001b[0m\n",
            "\u001b[0;31mValueError\u001b[0m: Tried to convert 'input' to a tensor and failed. Error: None values not supported."
          ]
        }
      ]
    },
    {
      "cell_type": "markdown",
      "metadata": {
        "id": "ArD-gBiIjgYD"
      },
      "source": [
        "## Read testing data"
      ]
    },
    {
      "cell_type": "code",
      "source": [
        "os.system('wget -cx ' + ARGS['remote_test_data'])"
      ],
      "metadata": {
        "id": "veXsv1c0KPx_",
        "colab": {
          "base_uri": "https://localhost:8080/"
        },
        "outputId": "61b50061-7ef8-4c16-98dc-c66b7db39c6f"
      },
      "execution_count": null,
      "outputs": [
        {
          "output_type": "stream",
          "name": "stderr",
          "text": [
            "--2022-08-07 17:29:51--  https://s3.msi.umn.edu/gongx030/projects/dream_PGE/test_sequences.txt.gz\n",
            "Resolving s3.msi.umn.edu (s3.msi.umn.edu)... 128.101.189.144\n",
            "Connecting to s3.msi.umn.edu (s3.msi.umn.edu)|128.101.189.144|:443... connected.\n",
            "HTTP request sent, awaiting response... 416 Requested Range Not Satisfiable\n",
            "\n",
            "    The file is already fully retrieved; nothing to do.\n",
            "\n"
          ]
        },
        {
          "output_type": "execute_result",
          "data": {
            "text/plain": [
              "0"
            ]
          },
          "metadata": {},
          "execution_count": 88
        }
      ]
    },
    {
      "cell_type": "code",
      "source": [
        "df = pd.read_csv(ARGS['local_test_data'], compression = 'gzip', sep = '\\t', header = None)\n",
        "df.columns = ['dna', 'expression']\n",
        "df['dna'] = df['dna'].astype('string')\n",
        "df['dna0'] = df['dna']\n",
        "print('test dataset size: %d' % len(df))"
      ],
      "metadata": {
        "id": "ZAaoU0rwKbIE",
        "colab": {
          "base_uri": "https://localhost:8080/"
        },
        "outputId": "d8e69ffd-9b3d-4df7-f076-5d5f62f90d08"
      },
      "execution_count": null,
      "outputs": [
        {
          "output_type": "stream",
          "name": "stdout",
          "text": [
            "test dataset size: 71103\n"
          ]
        }
      ]
    },
    {
      "cell_type": "code",
      "source": [
        "df['len'] = df['dna'].str.len()\n",
        "plt.hist(df['len'])\n",
        "print('min len: {}'.format(df['len'].min()))\n",
        "print('max len: {}'.format(df['len'].max()))"
      ],
      "metadata": {
        "id": "PxfUTp-KHR7U",
        "colab": {
          "base_uri": "https://localhost:8080/"
        },
        "outputId": "0630852a-77c9-49f8-8f8c-2a7e89a440e3"
      },
      "execution_count": null,
      "outputs": [
        {
          "output_type": "stream",
          "name": "stdout",
          "text": [
            "min len: 110\n",
            "max len: 110\n"
          ]
        },
        {
          "output_type": "display_data",
          "data": {
            "text/plain": [
              "<Figure size 432x288 with 1 Axes>"
            ],
            "image/png": "[encoded data removed]"
          },
          "metadata": {
            "needs_background": "light"
          }
        }
      ]
    },
    {
      "cell_type": "code",
      "source": [
        "print('number of unique sequences in the first {} positions: {}'.format(ARGS['head_len'], len(df['dna'].str[:ARGS['head_len']].unique())))\n",
        "print('number of unique sequences in the last {} positions: {}'.format(ARGS['tail_len'], len(df['dna'].str[-ARGS['tail_len']:].unique())))"
      ],
      "metadata": {
        "id": "dD49DoSqLBUF",
        "colab": {
          "base_uri": "https://localhost:8080/"
        },
        "outputId": "8d18a5bb-3a4c-441e-9d0b-77dd0409aae1"
      },
      "execution_count": null,
      "outputs": [
        {
          "output_type": "stream",
          "name": "stdout",
          "text": [
            "number of unique sequences in the first 17 positions: 1\n",
            "number of unique sequences in the last 13 positions: 1\n"
          ]
        }
      ]
    },
    {
      "cell_type": "code",
      "source": [
        "df['dna'] = df['dna'].str[ARGS['head_len']:]\n",
        "df['dna'] = df['dna'].str[:-ARGS['tail_len']]"
      ],
      "metadata": {
        "id": "5DinLJpsD-VH"
      },
      "execution_count": null,
      "outputs": []
    },
    {
      "cell_type": "code",
      "source": [
        "df['len'] = df['dna'].str.len()\n",
        "plt.hist(df['len'])\n",
        "print('min len: {}'.format(df['len'].min()))\n",
        "print('max len: {}'.format(df['len'].max()))"
      ],
      "metadata": {
        "id": "xC_9TprOF7h0",
        "colab": {
          "base_uri": "https://localhost:8080/"
        },
        "outputId": "e9191f8b-fcd0-4212-f116-787f458fafa0"
      },
      "execution_count": null,
      "outputs": [
        {
          "output_type": "stream",
          "name": "stdout",
          "text": [
            "min len: 80\n",
            "max len: 80\n"
          ]
        },
        {
          "output_type": "display_data",
          "data": {
            "text/plain": [
              "<Figure size 432x288 with 1 Axes>"
            ],
            "image/png": "[encoded data removed]"
          },
          "metadata": {
            "needs_background": "light"
          }
        }
      ]
    },
    {
      "cell_type": "code",
      "source": [
        "assert all(df['len'] <= ARGS['max_width'])"
      ],
      "metadata": {
        "id": "TY-qUq68Kf77"
      },
      "execution_count": null,
      "outputs": []
    },
    {
      "cell_type": "code",
      "source": [
        "df['dna'] = df['dna'].str.pad(width = ARGS['max_width'], side = 'both', fillchar = 'N')\n",
        "df['dna'] = df['dna'] + df['dna'].apply(lambda x: str(Seq(x).reverse_complement())).astype('string')"
      ],
      "metadata": {
        "id": "Mh7hqqG5K1J8"
      },
      "execution_count": null,
      "outputs": []
    },
    {
      "cell_type": "code",
      "execution_count": null,
      "metadata": {
        "id": "siz7Lbd3jgYG"
      },
      "outputs": [],
      "source": [
        "#input_dim = int(5) # A,C,G,T,N\n",
        "input_dim = int(6) # A,C,G,T,N,M\n",
        "n_positions = ARGS['max_width'] * 2"
      ]
    },
    {
      "cell_type": "code",
      "source": [
        "n_positions = int(ARGS['max_width'] * 2)\n",
        "print('# positions=%d' % (n_positions))"
      ],
      "metadata": {
        "id": "o7kPkdY3K8X0",
        "colab": {
          "base_uri": "https://localhost:8080/"
        },
        "outputId": "fee2a033-957a-4067-c0a3-9c0366384752"
      },
      "execution_count": null,
      "outputs": [
        {
          "output_type": "stream",
          "name": "stdout",
          "text": [
            "# positions=200\n"
          ]
        }
      ]
    },
    {
      "cell_type": "code",
      "source": [
        "dna = np.empty((0, n_positions), np.uint8)\n",
        "for x in np.array_split(df['dna'], 10): # split data into chunks\n",
        "  y = np.array(x.apply(list))\n",
        "  y = np.vstack(y)\n",
        "  y = np.vectorize(ARGS['alphabets'].get)(y)\n",
        "  y = y.astype(np.uint8)\n",
        "  print(y.shape)\n",
        "  dna = np.append(dna, y, axis = 0)"
      ],
      "metadata": {
        "id": "lREKXNHuLDA9",
        "colab": {
          "base_uri": "https://localhost:8080/"
        },
        "outputId": "d57ff3c1-68a7-4544-e3fa-29c83ca83187"
      },
      "execution_count": null,
      "outputs": [
        {
          "output_type": "stream",
          "name": "stdout",
          "text": [
            "(7111, 200)\n",
            "(7111, 200)\n",
            "(7111, 200)\n",
            "(7110, 200)\n",
            "(7110, 200)\n",
            "(7110, 200)\n",
            "(7110, 200)\n",
            "(7110, 200)\n",
            "(7110, 200)\n",
            "(7110, 200)\n"
          ]
        }
      ]
    },
    {
      "cell_type": "code",
      "source": [
        "base = np.zeros(dna.shape, dtype = np.uint8)\n",
        "base[dna == 4] = 0 #\n",
        "base[(dna == 0) | (dna == 2)] = 1 # A/G\n",
        "base[(dna == 1) | (dna == 3)] = 2 # C/T"
      ],
      "metadata": {
        "id": "CRrmdcsSzlj4"
      },
      "execution_count": null,
      "outputs": []
    },
    {
      "cell_type": "code",
      "source": [
        "ds = tf.data.Dataset.from_tensor_slices({\n",
        "  'seq' : dna,\n",
        "  'expression' : tf.zeros([len(df)]),\n",
        "  'base' : base,\n",
        "})\n",
        "ds.element_spec"
      ],
      "metadata": {
        "id": "MLaEYm4PLMp1",
        "colab": {
          "base_uri": "https://localhost:8080/"
        },
        "outputId": "d2d8494a-07f5-4f41-d749-477b53be2f9c"
      },
      "execution_count": null,
      "outputs": [
        {
          "output_type": "execute_result",
          "data": {
            "text/plain": [
              "{'seq': TensorSpec(shape=(200,), dtype=tf.uint8, name=None),\n",
              " 'expression': TensorSpec(shape=(), dtype=tf.float32, name=None),\n",
              " 'base': TensorSpec(shape=(200,), dtype=tf.uint8, name=None)}"
            ]
          },
          "metadata": {},
          "execution_count": 100
        }
      ]
    },
    {
      "cell_type": "markdown",
      "source": [
        "## Prediction"
      ],
      "metadata": {
        "id": "9FnLlgwJKQ7-"
      }
    },
    {
      "cell_type": "code",
      "source": [
        "model.load_weights(ARGS['local_checkpoint_dir'])"
      ],
      "metadata": {
        "id": "GJhPSCiRKPX7",
        "colab": {
          "base_uri": "https://localhost:8080/"
        },
        "outputId": "50592492-de53-47f0-aac3-c24129cbfb4d"
      },
      "execution_count": null,
      "outputs": [
        {
          "output_type": "execute_result",
          "data": {
            "text/plain": [
              "<tensorflow.python.training.tracking.util.CheckpointLoadStatus at 0x7fe868978310>"
            ]
          },
          "metadata": {},
          "execution_count": 102
        }
      ]
    },
    {
      "cell_type": "code",
      "source": [
        "expression = []\n",
        "pbar = keras.utils.Progbar(len(ds.batch(ARGS['batch_size'])))\n",
        "for step, batch in enumerate(ds.batch(ARGS['batch_size'])):\n",
        "  pbar.update(step)\n",
        "  expression_pred, _ = model(batch)\n",
        "  expression.append(expression_pred)\n",
        "expression = tf.concat(expression, axis = 0)"
      ],
      "metadata": {
        "id": "JMnvDzXWtrVs",
        "colab": {
          "base_uri": "https://localhost:8080/"
        },
        "outputId": "f39ec8f0-b945-47fd-9f26-2e1c7d327488"
      },
      "execution_count": null,
      "outputs": [
        {
          "output_type": "stream",
          "name": "stdout",
          "text": [
            "138/139 [============================>.] - ETA: 0s"
          ]
        }
      ]
    },
    {
      "cell_type": "code",
      "source": [
        "df['expression'] = expression.numpy()"
      ],
      "metadata": {
        "id": "42FU_zm_uYrW"
      },
      "execution_count": null,
      "outputs": []
    },
    {
      "cell_type": "code",
      "source": [
        "print('mean predicted expression: {}'.format(df['expression'].mean()))\n",
        "print('std predicted expression: {}'.format(df['expression'].std()))"
      ],
      "metadata": {
        "id": "pM6G_VO0GsAL",
        "colab": {
          "base_uri": "https://localhost:8080/"
        },
        "outputId": "adf5bb9f-3f95-4e23-a811-c1e2e8e44047"
      },
      "execution_count": null,
      "outputs": [
        {
          "output_type": "stream",
          "name": "stdout",
          "text": [
            "mean predicted expression: 0.29278337955474854\n",
            "std predicted expression: 1.0623327493667603\n"
          ]
        }
      ]
    },
    {
      "cell_type": "code",
      "source": [
        "p = plt.hist(df['expression'], bins = 100)"
      ],
      "metadata": {
        "id": "l894HCQ7OVj8",
        "colab": {
          "base_uri": "https://localhost:8080/"
        },
        "outputId": "d9c567bf-d352-4517-fdab-8a4c319fe583"
      },
      "execution_count": null,
      "outputs": [
        {
          "output_type": "display_data",
          "data": {
            "text/plain": [
              "<Figure size 432x288 with 1 Axes>"
            ],
            "image/png": "[encoded data removed]"
          },
          "metadata": {
            "needs_background": "light"
          }
        }
      ]
    },
    {
      "cell_type": "markdown",
      "source": [
        "## Prepare submission file"
      ],
      "metadata": {
        "id": "19E3HT1ESJ4A"
      }
    },
    {
      "cell_type": "code",
      "source": [
        "model.summary()"
      ],
      "metadata": {
        "id": "1k--o7NCg8oz",
        "colab": {
          "base_uri": "https://localhost:8080/"
        },
        "outputId": "fed10846-0229-4e83-edd4-04bc8b17b2fd"
      },
      "execution_count": null,
      "outputs": [
        {
          "output_type": "stream",
          "name": "stdout",
          "text": [
            "Model: \"regressor_1\"\n",
            "_________________________________________________________________\n",
            "Layer (type)                 Output Shape              Param #   \n",
            "=================================================================\n",
            "sequence_mask_layer_2 (Seque multiple                  0 (unused)\n",
            "_________________________________________________________________\n",
            "embedding_2 (Embedding)      multiple                  102400    \n",
            "_________________________________________________________________\n",
            "embedding_3 (Embedding)      multiple                  1024      \n",
            "_________________________________________________________________\n",
            "dense_26 (Dense)             multiple                  1024      \n",
            "_________________________________________________________________\n",
            "dense_27 (Dense)             multiple                  31232     \n",
            "_________________________________________________________________\n",
            "sequential_29 (Sequential)   (None, 232, 512)          47286272  \n",
            "_________________________________________________________________\n",
            "dropout_49 (Dropout)         multiple                  0         \n",
            "_________________________________________________________________\n",
            "dense_44 (Dense)             multiple                  513       \n",
            "_________________________________________________________________\n",
            "dense_45 (Dense)             multiple                  3078      \n",
            "=================================================================\n",
            "Total params: 47,425,543\n",
            "Trainable params: 47,425,543\n",
            "Non-trainable params: 0\n",
            "_________________________________________________________________\n"
          ]
        }
      ]
    },
    {
      "cell_type": "markdown",
      "source": [
        "Modified from https://github.com/de-Boer-Lab/DREAM-2022/blob/main/How%20to%20submit%20predictions%20to%20the%20public%20leaderboard.pdf"
      ],
      "metadata": {
        "id": "Mr9rV0nDWx2u"
      }
    },
    {
      "cell_type": "code",
      "source": [
        "os.system('wget -cx ' + ARGS['remote_sample_submission_file'])"
      ],
      "metadata": {
        "id": "BYr7HS0iSL32",
        "colab": {
          "base_uri": "https://localhost:8080/"
        },
        "outputId": "58235dee-3aeb-4556-b890-9b5e4798fbe5"
      },
      "execution_count": null,
      "outputs": [
        {
          "output_type": "stream",
          "name": "stderr",
          "text": [
            "--2022-08-07 17:32:22--  https://raw.githubusercontent.com/de-Boer-Lab/DREAM-2022/main/sample_submission.json\n",
            "Resolving raw.githubusercontent.com (raw.githubusercontent.com)... 185.199.110.133, 185.199.108.133, 185.199.109.133, ...\n",
            "Connecting to raw.githubusercontent.com (raw.githubusercontent.com)|185.199.110.133|:443... connected.\n",
            "HTTP request sent, awaiting response... 416 Range Not Satisfiable\n",
            "\n",
            "    The file is already fully retrieved; nothing to do.\n",
            "\n"
          ]
        },
        {
          "output_type": "execute_result",
          "data": {
            "text/plain": [
              "0"
            ]
          },
          "metadata": {},
          "execution_count": 111
        }
      ]
    },
    {
      "cell_type": "code",
      "source": [
        "with open(ARGS['local_sample_submission_file'], 'r') as f:\n",
        "  ground = json.load(f)"
      ],
      "metadata": {
        "id": "TM86DEDHSRPg"
      },
      "execution_count": null,
      "outputs": []
    },
    {
      "cell_type": "code",
      "source": [
        "indices = np.array([int(indice) for indice in list(ground.keys())])"
      ],
      "metadata": {
        "id": "KBD_KIirSYad"
      },
      "execution_count": null,
      "outputs": []
    },
    {
      "cell_type": "code",
      "source": [
        "PRED_DATA = OrderedDict()\n",
        "Y_Pred = df['expression'].to_numpy()"
      ],
      "metadata": {
        "id": "KM5aQCeYSYf7"
      },
      "execution_count": null,
      "outputs": []
    },
    {
      "cell_type": "code",
      "source": [
        "for i in indices:\n",
        "  PRED_DATA[str(i)] = float(Y_Pred[i])"
      ],
      "metadata": {
        "id": "-JOyfzpgTBT9"
      },
      "execution_count": null,
      "outputs": []
    },
    {
      "cell_type": "code",
      "source": [
        "local_prediction_dir = re.sub('(.+/)..+', '\\\\1', ARGS['local_prediction_file'])\n",
        "if not os.path.exists(local_prediction_dir):\n",
        "  os.makedirs(local_prediction_dir)\n",
        "  print('creating {}'.format(local_prediction_dir))"
      ],
      "metadata": {
        "id": "94ub4d1qVlv0"
      },
      "execution_count": null,
      "outputs": []
    },
    {
      "cell_type": "code",
      "source": [
        "with open(ARGS['local_prediction_file'], 'w') as f:\n",
        "  json.dump(PRED_DATA, f)\n",
        "print('writing {}'.format(ARGS['local_prediction_file']))"
      ],
      "metadata": {
        "id": "tVP8DI4HTTNY",
        "colab": {
          "base_uri": "https://localhost:8080/"
        },
        "outputId": "83630539-6df7-4bc8-f623-7f875ad15666"
      },
      "execution_count": null,
      "outputs": [
        {
          "output_type": "stream",
          "name": "stdout",
          "text": [
            "writing ./s3.msi.umn.edu/gongx030/projects/dream_PGE/predictions/m20220727e/pred.json\n"
          ]
        }
      ]
    },
    {
      "cell_type": "markdown",
      "source": [
        "Only if the notebook runs on MSI, otherwise, ignore this cell."
      ],
      "metadata": {
        "id": "uZWiJ3TPNcdC"
      }
    },
    {
      "cell_type": "code",
      "source": [
        "!s3cmd sync {ARGS['local_prediction_file']} {ARGS['s3_prediction_file']}\n",
        "!s3cmd setacl -P {ARGS['s3_prediction_file']}"
      ],
      "metadata": {
        "id": "Mc91PmIJWRoK"
      },
      "execution_count": null,
      "outputs": []
    },
    {
      "cell_type": "code",
      "source": [
        "print('prediction file: {}'.format(ARGS['remote_prediction_file']))"
      ],
      "metadata": {
        "id": "CUsACX1WWiND",
        "colab": {
          "base_uri": "https://localhost:8080/"
        },
        "outputId": "a50324f1-2df8-4458-b836-9da188e23b11"
      },
      "execution_count": null,
      "outputs": [
        {
          "output_type": "stream",
          "name": "stdout",
          "text": [
            "prediction file: https://s3.msi.umn.edu/gongx030/projects/dream_PGE/predictions/m20220727e/pred.json\n"
          ]
        }
      ]
    },
    {
      "cell_type": "code",
      "source": [
        "df[['dna0', 'expression']].to_csv(ARGS['local_prediction_tsv_file'], header = False, sep = '\\t', index = False)"
      ],
      "metadata": {
        "id": "SiZ9hbVXaAx3"
      },
      "execution_count": null,
      "outputs": []
    },
    {
      "cell_type": "code",
      "source": [
        "!s3cmd sync {ARGS['local_prediction_tsv_file']} {ARGS['s3_prediction_tsv_file']}\n",
        "!s3cmd setacl -P {ARGS['s3_prediction_tsv_file']}"
      ],
      "metadata": {
        "id": "CkL8h8FGadY6"
      },
      "execution_count": null,
      "outputs": []
    },
    {
      "cell_type": "code",
      "source": [
        "print('prediction file(tsv): {}'.format(ARGS['remote_prediction_tsv_file']))"
      ],
      "metadata": {
        "colab": {
          "base_uri": "https://localhost:8080/"
        },
        "id": "sQX_3risahNN",
        "outputId": "1405c624-34b0-4903-a418-f2439d229979"
      },
      "execution_count": null,
      "outputs": [
        {
          "output_type": "stream",
          "name": "stdout",
          "text": [
            "prediction file(tsv): https://s3.msi.umn.edu/gongx030/projects/dream_PGE/predictions/m20220727e/pred.tsv\n"
          ]
        }
      ]
    },
    {
      "cell_type": "markdown",
      "source": [
        "# SessionInfo"
      ],
      "metadata": {
        "id": "h6z-1F1D4owK"
      }
    },
    {
      "cell_type": "code",
      "source": [
        "session_info.show()"
      ],
      "metadata": {
        "id": "53wVoagb4tD8",
        "colab": {
          "base_uri": "https://localhost:8080/",
          "height": 34
        },
        "outputId": "74fa0970-dc30-492f-9cc9-76ce90418ec9"
      },
      "execution_count": null,
      "outputs": [
        {
          "output_type": "execute_result",
          "data": {
            "text/plain": [
              "<IPython.core.display.HTML object>"
            ],
            "text/html": [
              "<details>\n",
              "<summary>Click to view session information</summary>\n",
              "<pre>\n",
              "-----\n",
              "Bio                         1.79\n",
              "keras                       2.6.0\n",
              "matplotlib                  3.5.2\n",
              "numpy                       1.19.5\n",
              "pandas                      1.3.5\n",
              "scipy                       1.7.3\n",
              "session_info                1.0.0\n",
              "sklearn                     1.0.2\n",
              "tensorflow                  2.6.0\n",
              "tensorflow_probability      0.14.1\n",
              "-----\n",
              "</pre>\n",
              "<details>\n",
              "<summary>Click to view modules imported as dependencies</summary>\n",
              "<pre>\n",
              "2f7ece400a652629565c523b34ee61b04afa385c    NA\n",
              "PIL                                         9.2.0\n",
              "absl                                        NA\n",
              "astunparse                                  1.6.3\n",
              "backcall                                    0.2.0\n",
              "beta_ufunc                                  NA\n",
              "binom_ufunc                                 NA\n",
              "cached_property                             1.5.2\n",
              "certifi                                     2022.06.15\n",
              "cffi                                        1.15.1\n",
              "charset_normalizer                          2.1.0\n",
              "cloudpickle                                 2.1.0\n",
              "cycler                                      0.10.0\n",
              "cython_runtime                              NA\n",
              "dateutil                                    2.8.2\n",
              "debugpy                                     1.6.2\n",
              "decorator                                   5.1.1\n",
              "defusedxml                                  0.7.1\n",
              "entrypoints                                 0.4\n",
              "flatbuffers                                 NA\n",
              "gast                                        NA\n",
              "google                                      NA\n",
              "h5py                                        3.1.0\n",
              "idna                                        3.3\n",
              "importlib_metadata                          NA\n",
              "ipykernel                                   6.15.1\n",
              "ipython_genutils                            0.2.0\n",
              "jedi                                        0.18.1\n",
              "jinja2                                      3.1.2\n",
              "joblib                                      1.1.0\n",
              "keras_preprocessing                         1.1.2\n",
              "kiwisolver                                  1.4.4\n",
              "markupsafe                                  2.1.1\n",
              "matplotlib_inline                           NA\n",
              "mpl_toolkits                                NA\n",
              "nbinom_ufunc                                NA\n",
              "opt_einsum                                  v3.3.0\n",
              "packaging                                   21.3\n",
              "parso                                       0.8.3\n",
              "pexpect                                     4.8.0\n",
              "pickleshare                                 0.7.5\n",
              "pkg_resources                               NA\n",
              "prompt_toolkit                              3.0.30\n",
              "psutil                                      5.9.1\n",
              "ptyprocess                                  0.7.0\n",
              "pydev_ipython                               NA\n",
              "pydevconsole                                NA\n",
              "pydevd                                      2.8.0\n",
              "pydevd_file_utils                           NA\n",
              "pydevd_plugins                              NA\n",
              "pydevd_tracing                              NA\n",
              "pygments                                    2.12.0\n",
              "pyparsing                                   3.0.9\n",
              "pytz                                        2022.1\n",
              "requests                                    2.28.1\n",
              "setuptools                                  63.2.0\n",
              "six                                         1.15.0\n",
              "storemagic                                  NA\n",
              "tensorboard                                 2.9.1\n",
              "termcolor                                   1.1.0\n",
              "threadpoolctl                               3.1.0\n",
              "tmp2xi5csl9                                 NA\n",
              "tmp9rv1w0t_                                 NA\n",
              "tmpbaeatp84                                 NA\n",
              "tornado                                     6.2\n",
              "traitlets                                   5.3.0\n",
              "tree                                        0.1.7\n",
              "typing_extensions                           NA\n",
              "urllib3                                     1.26.11\n",
              "wcwidth                                     0.2.5\n",
              "wrapt                                       1.12.1\n",
              "zipp                                        NA\n",
              "zmq                                         23.2.0\n",
              "</pre>\n",
              "</details> <!-- seems like this ends pre, so might as well be explicit -->\n",
              "<pre>\n",
              "-----\n",
              "IPython             7.34.0\n",
              "jupyter_client      7.3.4\n",
              "jupyter_core        4.11.1\n",
              "notebook            6.4.12\n",
              "-----\n",
              "Python 3.7.12 | packaged by conda-forge | (default, Oct 26 2021, 06:08:21) [GCC 9.4.0]\n",
              "Linux-3.10.0-1160.71.1.el7.x86_64-x86_64-with-centos-7.9.2009-Core\n",
              "-----\n",
              "Session information updated at 2022-08-07 17:32\n",
              "</pre>\n",
              "</details>"
            ]
          },
          "metadata": {},
          "execution_count": 123
        }
      ]
    },
    {
      "cell_type": "code",
      "source": [],
      "metadata": {
        "id": "tFWCf4x-5bTE"
      },
      "execution_count": null,
      "outputs": []
    }
  ]
}